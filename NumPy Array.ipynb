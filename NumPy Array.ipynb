{
 "cells": [
  {
   "cell_type": "markdown",
   "metadata": {},
   "source": [
    "# \n",
    "\n",
    "# Numpy Üzerinden Array Oluşturma\n",
    "\n"
   ]
  },
  {
   "cell_type": "code",
   "execution_count": 1,
   "metadata": {},
   "outputs": [],
   "source": [
    "import numpy as np"
   ]
  },
  {
   "cell_type": "code",
   "execution_count": 3,
   "metadata": {},
   "outputs": [
    {
     "data": {
      "text/plain": [
       "array([1, 2, 3, 4, 5, 6])"
      ]
     },
     "execution_count": 3,
     "metadata": {},
     "output_type": "execute_result"
    }
   ],
   "source": [
    "np.array([1,2,3,4,5,6])"
   ]
  },
  {
   "cell_type": "code",
   "execution_count": 4,
   "metadata": {},
   "outputs": [
    {
     "data": {
      "text/plain": [
       "array([3.4, 5. , 6. , 7. , 8.9])"
      ]
     },
     "execution_count": 4,
     "metadata": {},
     "output_type": "execute_result"
    }
   ],
   "source": [
    "np.array([3.4,5,6,7,8.9])"
   ]
  },
  {
   "cell_type": "markdown",
   "metadata": {},
   "source": [
    "\n",
    "\n",
    "### Array işlemi optimizasyon ve performans verimliliği sağladığı için array içerisindeki verileri tek sabit tip şeklinde saklar.\n",
    "\n"
   ]
  },
  {
   "cell_type": "code",
   "execution_count": 6,
   "metadata": {},
   "outputs": [
    {
     "data": {
      "text/plain": [
       "array([3, 5, 6, 7])"
      ]
     },
     "execution_count": 6,
     "metadata": {},
     "output_type": "execute_result"
    }
   ],
   "source": [
    "np.array([3.4,5,6,7], dtype = \"int\")"
   ]
  },
  {
   "cell_type": "code",
   "execution_count": 7,
   "metadata": {},
   "outputs": [
    {
     "data": {
      "text/plain": [
       "array([3.4, 5. , 6. , 7. ])"
      ]
     },
     "execution_count": 7,
     "metadata": {},
     "output_type": "execute_result"
    }
   ],
   "source": [
    "np.array([3.4,5,6,7], dtype = \"float\")"
   ]
  },
  {
   "cell_type": "markdown",
   "metadata": {},
   "source": [
    "\n",
    "\n",
    "## Sıfırdan Array Oluşturma\n",
    "\n"
   ]
  },
  {
   "cell_type": "code",
   "execution_count": 8,
   "metadata": {},
   "outputs": [
    {
     "data": {
      "text/plain": [
       "array([0, 0, 0, 0, 0, 0, 0, 0, 0, 0])"
      ]
     },
     "execution_count": 8,
     "metadata": {},
     "output_type": "execute_result"
    }
   ],
   "source": [
    "\n",
    "np.zeros(10, dtype = int)     # İstenilen sayıda sıfır oluşturma\n"
   ]
  },
  {
   "cell_type": "code",
   "execution_count": 11,
   "metadata": {},
   "outputs": [
    {
     "data": {
      "text/plain": [
       "array([[1, 1, 1],\n",
       "       [1, 1, 1]])"
      ]
     },
     "execution_count": 11,
     "metadata": {},
     "output_type": "execute_result"
    }
   ],
   "source": [
    "\n",
    "np.ones((2,3),dtype = int)      # Satır ve sütun değeri girerek iki boyutlu matris oluşturma\n"
   ]
  },
  {
   "cell_type": "code",
   "execution_count": 12,
   "metadata": {},
   "outputs": [
    {
     "data": {
      "text/plain": [
       "array([1, 1, 1, 1, 1])"
      ]
     },
     "execution_count": 12,
     "metadata": {},
     "output_type": "execute_result"
    }
   ],
   "source": [
    "\n",
    "np.ones(5,dtype = int)            # İstenilen sayıda bir oluşturma\n"
   ]
  },
  {
   "cell_type": "code",
   "execution_count": 14,
   "metadata": {},
   "outputs": [
    {
     "data": {
      "text/plain": [
       "array([[5, 5, 5, 5, 5, 5, 5, 5, 5, 5],\n",
       "       [5, 5, 5, 5, 5, 5, 5, 5, 5, 5]])"
      ]
     },
     "execution_count": 14,
     "metadata": {},
     "output_type": "execute_result"
    }
   ],
   "source": [
    "\n",
    "np.full((2,10),5, dtype = int)    # İstenilen sayıda istenilen sayıyı oluşturma    np.fonksiyon((Satır,Sütun) , İstenilen Sayı, dtype )\n"
   ]
  },
  {
   "cell_type": "code",
   "execution_count": 15,
   "metadata": {},
   "outputs": [
    {
     "data": {
      "text/plain": [
       "array([ 0,  1,  2,  3,  4,  5,  6,  7,  8,  9, 10, 11, 12, 13, 14, 15, 16,\n",
       "       17, 18, 19])"
      ]
     },
     "execution_count": 15,
     "metadata": {},
     "output_type": "execute_result"
    }
   ],
   "source": [
    "np.arange(0,20)"
   ]
  },
  {
   "cell_type": "code",
   "execution_count": 16,
   "metadata": {},
   "outputs": [
    {
     "data": {
      "text/plain": [
       "array([  0,   5,  10,  15,  20,  25,  30,  35,  40,  45,  50,  55,  60,\n",
       "        65,  70,  75,  80,  85,  90,  95, 100])"
      ]
     },
     "execution_count": 16,
     "metadata": {},
     "output_type": "execute_result"
    }
   ],
   "source": [
    "np.arange(0,101,5)"
   ]
  },
  {
   "cell_type": "code",
   "execution_count": 20,
   "metadata": {},
   "outputs": [
    {
     "data": {
      "text/plain": [
       "array([0.        , 0.11111111, 0.22222222, 0.33333333, 0.44444444,\n",
       "       0.55555556, 0.66666667, 0.77777778, 0.88888889, 1.        ])"
      ]
     },
     "execution_count": 20,
     "metadata": {},
     "output_type": "execute_result"
    }
   ],
   "source": [
    "np.linspace(0,1,10)   # Aralık arasında istenilen sayıda sayı oluşturma"
   ]
  },
  {
   "cell_type": "code",
   "execution_count": 22,
   "metadata": {},
   "outputs": [
    {
     "data": {
      "text/plain": [
       "array([2.        , 2.03030303, 2.06060606, 2.09090909, 2.12121212,\n",
       "       2.15151515, 2.18181818, 2.21212121, 2.24242424, 2.27272727,\n",
       "       2.3030303 , 2.33333333, 2.36363636, 2.39393939, 2.42424242,\n",
       "       2.45454545, 2.48484848, 2.51515152, 2.54545455, 2.57575758,\n",
       "       2.60606061, 2.63636364, 2.66666667, 2.6969697 , 2.72727273,\n",
       "       2.75757576, 2.78787879, 2.81818182, 2.84848485, 2.87878788,\n",
       "       2.90909091, 2.93939394, 2.96969697, 3.        , 3.03030303,\n",
       "       3.06060606, 3.09090909, 3.12121212, 3.15151515, 3.18181818,\n",
       "       3.21212121, 3.24242424, 3.27272727, 3.3030303 , 3.33333333,\n",
       "       3.36363636, 3.39393939, 3.42424242, 3.45454545, 3.48484848,\n",
       "       3.51515152, 3.54545455, 3.57575758, 3.60606061, 3.63636364,\n",
       "       3.66666667, 3.6969697 , 3.72727273, 3.75757576, 3.78787879,\n",
       "       3.81818182, 3.84848485, 3.87878788, 3.90909091, 3.93939394,\n",
       "       3.96969697, 4.        , 4.03030303, 4.06060606, 4.09090909,\n",
       "       4.12121212, 4.15151515, 4.18181818, 4.21212121, 4.24242424,\n",
       "       4.27272727, 4.3030303 , 4.33333333, 4.36363636, 4.39393939,\n",
       "       4.42424242, 4.45454545, 4.48484848, 4.51515152, 4.54545455,\n",
       "       4.57575758, 4.60606061, 4.63636364, 4.66666667, 4.6969697 ,\n",
       "       4.72727273, 4.75757576, 4.78787879, 4.81818182, 4.84848485,\n",
       "       4.87878788, 4.90909091, 4.93939394, 4.96969697, 5.        ])"
      ]
     },
     "execution_count": 22,
     "metadata": {},
     "output_type": "execute_result"
    }
   ],
   "source": [
    "np.linspace(2,5,100)"
   ]
  },
  {
   "cell_type": "code",
   "execution_count": 23,
   "metadata": {},
   "outputs": [
    {
     "data": {
      "text/plain": [
       "array([[ 9.78091732,  8.44842038,  4.08554841,  6.2448913 ],\n",
       "       [17.57893821,  2.54747452,  9.77723877,  3.37991475],\n",
       "       [10.16506804,  6.58188594,  8.34293437, 11.23261796]])"
      ]
     },
     "execution_count": 23,
     "metadata": {},
     "output_type": "execute_result"
    }
   ],
   "source": [
    "np.random.normal(10,4, (3,4))         # np.random.normal(Ortalama, Standart Sapma, (Matris Oluşturma İçin Sütun ve Aralık))"
   ]
  },
  {
   "cell_type": "code",
   "execution_count": 29,
   "metadata": {},
   "outputs": [
    {
     "data": {
      "text/plain": [
       "array([[ 8.05148833,  5.04066916, 17.00698891, 14.71747286,  0.08011897],\n",
       "       [ 8.42504864, 20.44154687,  5.64591611,  7.12333461,  9.22176997],\n",
       "       [ 6.92413718,  6.57843353,  5.98684941,  1.27324472, 11.30202732],\n",
       "       [ 2.24229819,  6.6512465 ,  9.3007785 ,  4.46379407, 11.65027909],\n",
       "       [10.36697538, 16.18403169,  8.55863462,  9.29008606, 11.45703601]])"
      ]
     },
     "execution_count": 29,
     "metadata": {},
     "output_type": "execute_result"
    }
   ],
   "source": [
    "np.random.normal(9,5, (5,5))"
   ]
  },
  {
   "cell_type": "code",
   "execution_count": 30,
   "metadata": {},
   "outputs": [
    {
     "data": {
      "text/plain": [
       "2"
      ]
     },
     "execution_count": 30,
     "metadata": {},
     "output_type": "execute_result"
    }
   ],
   "source": [
    "np.random.randint(2,9)"
   ]
  },
  {
   "cell_type": "code",
   "execution_count": 31,
   "metadata": {},
   "outputs": [
    {
     "data": {
      "text/plain": [
       "array([[8, 7, 8, 5, 3, 5, 6, 4, 2, 3],\n",
       "       [4, 4, 2, 3, 7, 5, 3, 3, 7, 8],\n",
       "       [5, 2, 3, 6, 5, 6, 7, 4, 3, 4],\n",
       "       [2, 8, 3, 4, 3, 6, 4, 5, 2, 2],\n",
       "       [4, 5, 3, 6, 4, 6, 4, 4, 6, 3],\n",
       "       [6, 4, 4, 4, 2, 8, 4, 2, 5, 2],\n",
       "       [5, 5, 3, 4, 3, 2, 3, 6, 6, 5],\n",
       "       [8, 3, 4, 3, 3, 7, 2, 6, 5, 3],\n",
       "       [8, 6, 4, 5, 5, 8, 2, 6, 7, 6],\n",
       "       [6, 6, 7, 5, 7, 6, 8, 4, 5, 8]])"
      ]
     },
     "execution_count": 31,
     "metadata": {},
     "output_type": "execute_result"
    }
   ],
   "source": [
    "np.random.randint(2,9,(10,10))"
   ]
  },
  {
   "cell_type": "markdown",
   "metadata": {},
   "source": [
    "\n",
    "\n",
    "## **Array Özellikleri** \n",
    "\n"
   ]
  },
  {
   "cell_type": "markdown",
   "metadata": {},
   "source": [
    " * ndim: Boyut Sayısı\n",
    "* shape: Boyut Bilgisi\n",
    "* size: Eleman Sayısı\n",
    "* dtype: Array Veri Tipi\n"
   ]
  },
  {
   "cell_type": "code",
   "execution_count": 2,
   "metadata": {},
   "outputs": [],
   "source": [
    "ramdom = np.random.randint(2,20, size = 15)"
   ]
  },
  {
   "cell_type": "code",
   "execution_count": 3,
   "metadata": {},
   "outputs": [
    {
     "data": {
      "text/plain": [
       "1"
      ]
     },
     "execution_count": 3,
     "metadata": {},
     "output_type": "execute_result"
    }
   ],
   "source": [
    "ramdom.ndim"
   ]
  },
  {
   "cell_type": "code",
   "execution_count": 4,
   "metadata": {},
   "outputs": [
    {
     "data": {
      "text/plain": [
       "(15,)"
      ]
     },
     "execution_count": 4,
     "metadata": {},
     "output_type": "execute_result"
    }
   ],
   "source": [
    "ramdom.shape"
   ]
  },
  {
   "cell_type": "code",
   "execution_count": 5,
   "metadata": {},
   "outputs": [
    {
     "data": {
      "text/plain": [
       "15"
      ]
     },
     "execution_count": 5,
     "metadata": {},
     "output_type": "execute_result"
    }
   ],
   "source": [
    "ramdom.size"
   ]
  },
  {
   "cell_type": "code",
   "execution_count": 45,
   "metadata": {},
   "outputs": [
    {
     "data": {
      "text/plain": [
       "dtype('int32')"
      ]
     },
     "execution_count": 45,
     "metadata": {},
     "output_type": "execute_result"
    }
   ],
   "source": [
    "ramdom.dtype"
   ]
  },
  {
   "cell_type": "code",
   "execution_count": 6,
   "metadata": {},
   "outputs": [
    {
     "name": "stdout",
     "output_type": "stream",
     "text": [
      "[   0   10   20   30   40   50   60   70   80   90  100  110  120  130\n",
      "  140  150  160  170  180  190  200  210  220  230  240  250  260  270\n",
      "  280  290  300  310  320  330  340  350  360  370  380  390  400  410\n",
      "  420  430  440  450  460  470  480  490  500  510  520  530  540  550\n",
      "  560  570  580  590  600  610  620  630  640  650  660  670  680  690\n",
      "  700  710  720  730  740  750  760  770  780  790  800  810  820  830\n",
      "  840  850  860  870  880  890  900  910  920  930  940  950  960  970\n",
      "  980  990 1000 1010 1020 1030 1040 1050 1060 1070]\n"
     ]
    }
   ],
   "source": [
    "\n",
    "# Örnek I\n",
    "\n",
    "sayı = np.arange(0,1075,10)\n",
    "print(sayı)\n"
   ]
  },
  {
   "cell_type": "code",
   "execution_count": 7,
   "metadata": {},
   "outputs": [
    {
     "data": {
      "text/plain": [
       "1"
      ]
     },
     "execution_count": 7,
     "metadata": {},
     "output_type": "execute_result"
    }
   ],
   "source": [
    "sayı.ndim"
   ]
  },
  {
   "cell_type": "code",
   "execution_count": 8,
   "metadata": {},
   "outputs": [
    {
     "data": {
      "text/plain": [
       "(108,)"
      ]
     },
     "execution_count": 8,
     "metadata": {},
     "output_type": "execute_result"
    }
   ],
   "source": [
    "sayı.shape"
   ]
  },
  {
   "cell_type": "code",
   "execution_count": 9,
   "metadata": {},
   "outputs": [
    {
     "data": {
      "text/plain": [
       "108"
      ]
     },
     "execution_count": 9,
     "metadata": {},
     "output_type": "execute_result"
    }
   ],
   "source": [
    "sayı.size"
   ]
  },
  {
   "cell_type": "code",
   "execution_count": 10,
   "metadata": {},
   "outputs": [
    {
     "data": {
      "text/plain": [
       "dtype('int32')"
      ]
     },
     "execution_count": 10,
     "metadata": {},
     "output_type": "execute_result"
    }
   ],
   "source": [
    "sayı.dtype"
   ]
  },
  {
   "cell_type": "code",
   "execution_count": 53,
   "metadata": {},
   "outputs": [
    {
     "name": "stdout",
     "output_type": "stream",
     "text": [
      "İki Boyutlu Array Listesi: [[11 16  4  4  5]\n",
      " [ 6  2  5  5  4]\n",
      " [12  5 15  6 12]\n",
      " [10  5 17  9  9]\n",
      " [12 17  8 15  4]]\n"
     ]
    }
   ],
   "source": [
    "\n",
    "# Örnek II\n",
    "\n",
    "liste = np.random.randint(1,20,(5,5))\n",
    "print(\"İki Boyutlu Array Listesi:\",liste)\n"
   ]
  },
  {
   "cell_type": "code",
   "execution_count": 55,
   "metadata": {},
   "outputs": [
    {
     "data": {
      "text/plain": [
       "2"
      ]
     },
     "execution_count": 55,
     "metadata": {},
     "output_type": "execute_result"
    }
   ],
   "source": [
    "liste.ndim         # Array'in matris olup olmadığını söyler"
   ]
  },
  {
   "cell_type": "code",
   "execution_count": 56,
   "metadata": {},
   "outputs": [
    {
     "data": {
      "text/plain": [
       "(5, 5)"
      ]
     },
     "execution_count": 56,
     "metadata": {},
     "output_type": "execute_result"
    }
   ],
   "source": [
    "liste.shape"
   ]
  },
  {
   "cell_type": "code",
   "execution_count": 57,
   "metadata": {},
   "outputs": [
    {
     "data": {
      "text/plain": [
       "25"
      ]
     },
     "execution_count": 57,
     "metadata": {},
     "output_type": "execute_result"
    }
   ],
   "source": [
    "liste.size"
   ]
  },
  {
   "cell_type": "code",
   "execution_count": 59,
   "metadata": {},
   "outputs": [
    {
     "data": {
      "text/plain": [
       "dtype('int32')"
      ]
     },
     "execution_count": 59,
     "metadata": {},
     "output_type": "execute_result"
    }
   ],
   "source": [
    "liste.dtype"
   ]
  },
  {
   "cell_type": "code",
   "execution_count": null,
   "metadata": {},
   "outputs": [],
   "source": []
  }
 ],
 "metadata": {
  "kernelspec": {
   "display_name": "Python 3",
   "language": "python",
   "name": "python3"
  },
  "language_info": {
   "codemirror_mode": {
    "name": "ipython",
    "version": 3
   },
   "file_extension": ".py",
   "mimetype": "text/x-python",
   "name": "python",
   "nbconvert_exporter": "python",
   "pygments_lexer": "ipython3",
   "version": "3.8.8"
  }
 },
 "nbformat": 4,
 "nbformat_minor": 4
}
